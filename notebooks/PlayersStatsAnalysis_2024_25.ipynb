{
 "cells": [
  {
   "cell_type": "markdown",
   "metadata": {},
   "source": [
    "# NBA Player Statistics Analysis (2024-2025 Season)\n",
    "\n",
    "This notebook performs an analysis of NBA player statistics for the 2024-2025 season, using data scraped from Basketball-Reference.com. We will load per-game, advanced, and shooting statistics, merge them, and perform exploratory data analysis (EDA) with visualizations."
   ]
  },
  {
   "cell_type": "markdown",
   "metadata": {},
   "source": [
    "## 1. Setup and Library Imports"
   ]
  },
  {
   "cell_type": "code",
   "execution_count": null,
   "metadata": {},
   "outputs": [],
   "source": [
    "import pandas as pd\n",
    "import matplotlib.pyplot as plt\n",
    "import seaborn as sns\n",
    "import numpy as np # For potential NaN handling or numeric operations\n",
    "\n",
    "# Display plots inline\n",
    "%matplotlib inline\n",
    "\n",
    "# Set a style for plots\n",
    "plt.style.use('fivethirtyeight')\n",
    "sns.set_style('whitegrid')"
   ]
  },
  {
   "cell_type": "markdown",
   "metadata": {},
   "source": [
    "## 2. Load Data\n",
    "\n",
    "We will load the three CSV files: per-game stats, advanced stats, and shooting stats."
   ]
  },
  {
   "cell_type": "code",
   "execution_count": null,
   "metadata": {},
   "outputs": [],
   "source": [
    "per_game_file = '../PyScripts/nba_per_game_stats_2024_25.csv'\n",
    "advanced_file = '../PyScripts/nba_advanced_stats_2024_25.csv'\n",
    "shooting_file = '../PyScripts/nba_shooting_stats_2024_25.csv'\n",
    "\n",
    "try:\n",
    "    per_game_df = pd.read_csv(per_game_file)\n",
    "    print(f\"Successfully loaded per_game_stats from {per_game_file}\")\n",
    "except FileNotFoundError:\n",
    "    print(f\"Error: {per_game_file} not found.\")\n",
    "    per_game_df = pd.DataFrame() # Create empty DataFrame if file not found\n",
    "\n",
    "try:\n",
    "    advanced_df = pd.read_csv(advanced_file)\n",
    "    print(f\"Successfully loaded advanced_stats from {advanced_file}\")\n",
    "except FileNotFoundError:\n",
    "    print(f\"Error: {advanced_file} not found.\")\n",
    "    advanced_df = pd.DataFrame()\n",
    "\n",
    "try:\n",
    "    shooting_df = pd.read_csv(shooting_file)\n",
    "    print(f\"Successfully loaded shooting_stats from {shooting_file}\")\n",
    "except FileNotFoundError:\n",
    "    print(f\"Error: {shooting_file} not found.\")\n",
    "    shooting_df = pd.DataFrame()"
   ]
  },
  {
   "cell_type": "markdown",
   "metadata": {},
   "source": [
    "## 3. Initial Data Inspection and Cleaning\n",
    "\n",
    "Let's inspect the first few rows, data types, and summary statistics for each DataFrame. We'll also check for missing values."
   ]
  },
  {
   "cell_type": "markdown",
   "metadata": {},
   "source": [
    "### 3.1 Per-Game Statistics"
   ]
  },
  {
   "cell_type": "code",
   "execution_count": null,
   "metadata": {},
   "outputs": [],
   "source": [
    "if not per_game_df.empty:\n",
    "    print(\"Per Game Stats - Head:\")\n",
    "    display(per_game_df.head())\n",
    "    print(\"\\nPer Game Stats - Info:\")\n",
    "    per_game_df.info()\n",
    "    print(\"\\nPer Game Stats - Describe:\")\n",
    "    display(per_game_df.describe())\n",
    "    print(\"\\nPer Game Stats - Missing Values:\")\n",
    "    display(per_game_df.isnull().sum())"
   ]
  },
  {
   "cell_type": "markdown",
   "metadata": {},
   "source": [
    "### 3.2 Advanced Statistics"
   ]
  },
  {
   "cell_type": "code",
   "execution_count": null,
   "metadata": {},
   "outputs": [],
   "source": [
    "if not advanced_df.empty:\n",
    "    print(\"Advanced Stats - Head:\")\n",
    "    display(advanced_df.head())\n",
    "    print(\"\\nAdvanced Stats - Info:\")\n",
    "    advanced_df.info()\n",
    "    print(\"\\nAdvanced Stats - Describe:\")\n",
    "    display(advanced_df.describe())\n",
    "    print(\"\\nAdvanced Stats - Missing Values:\")\n",
    "    display(advanced_df.isnull().sum())"
   ]
  },
  {
   "cell_type": "markdown",
   "metadata": {},
   "source": [
    "### 3.3 Shooting Statistics"
   ]
  },
  {
   "cell_type": "code",
   "execution_count": null,
   "metadata": {},
   "outputs": [],
   "source": [
    "if not shooting_df.empty:\n",
    "    print(\"Shooting Stats - Head:\")\n",
    "    display(shooting_df.head())\n",
    "    print(\"\\nShooting Stats - Info:\")\n",
    "    shooting_df.info()\n",
    "    print(\"\\nShooting Stats - Describe:\")\n",
    "    display(shooting_df.describe())\n",
    "    print(\"\\nShooting Stats - Missing Values:\")\n",
    "    display(shooting_df.isnull().sum())"
   ]
  },
  {
   "cell_type": "markdown",
   "metadata": {},
   "source": [
    "### 3.4 Discussion on Missing Values\n",
    "\n",
    "Missing values are observed in several columns, particularly '3P%', 'FT%', 'FG%', and some advanced metrics. This often occurs for players with zero attempts in those categories (e.g. 0 3PA leads to NaN for 3P%). The 'Awards' column has many NaNs as most players don't receive awards.\n",
    "\n",
    "**Strategy for handling NaNs for this EDA:**\n",
    "*   For percentage stats (like 'FG%', '3P%', 'FT%'), NaNs resulting from zero attempts could be filled with 0.0 for calculation if the number of attempts is also considered.\n",
    "*   For other numeric stats, filling with 0 or the mean/median might be an option, but care must be taken not to skew the data. For this EDA, we will mostly filter out NaNs or use pandas' default handling where appropriate for calculations like `.mean()`.\n",
    "*   The 'Awards' column NaNs mean no awards, which is fine for descriptive purposes.\n",
    "*   When calculating specific metrics (e.g., top TS% players), we will filter for a minimum number of attempts or minutes played to ensure meaningful comparisons."
   ]
  },
  {
   "cell_type": "markdown",
   "metadata": {},
   "source": [
    "## 4. Merge DataFrames\n",
    "\n",
    "We will merge the three DataFrames into a single comprehensive DataFrame. We need to be careful about common columns. Let's list them out and decide on a merge strategy. \n",
    "\n",
    "Common columns might include: 'Player', 'Pos', 'Age', 'Team', 'G', 'GS', 'MP'.\n",
    "- `per_game_df` has MP per game.\n",
    "- `advanced_df` has total MP.\n",
    "- `shooting_df` has total MP.\n",
    "\n",
    "We'll use 'Player', 'Team', 'Age', 'G', 'GS', 'Pos' as primary merge keys. For MP, we will keep the per-game MP from `per_game_df` as the main 'MP' and rename total MP columns from other tables if necessary or select one."
   ]
  },
  {
   "cell_type": "code",
   "execution_count": null,
   "metadata": {},
   "outputs": [],
   "source": [
    "if not per_game_df.empty and not advanced_df.empty:\n",
    "    # Merge per-game and advanced stats\n",
    "    # Common columns: Player, Pos, Age, Team, G, GS\n",
    "    # MP in per_game_df is minutes per game, MP in advanced_df is total minutes for the season.\n",
    "    # We will keep per_game_df's MP as 'MP_per_game' and advanced_df's MP as 'MP_total'.\n",
    "    merged_df = pd.merge(per_game_df.rename(columns={'MP': 'MP_per_game'}), \n",
    "                           advanced_df.rename(columns={'MP': 'MP_total_adv'}), \n",
    "                           on=['Player', 'Pos', 'Age', 'Team', 'G', 'GS'], \n",
    "                           how='outer', # Use outer to see all players, NaNs will indicate missing data in one table\n",
    "                           suffixes=('', '_adv'))\n",
    "    print(\"Shape after merging per-game and advanced: \", merged_df.shape)\n",
    "else:\n",
    "    # If one is empty, try to use the other or an empty df\n",
    "    merged_df = per_game_df.rename(columns={'MP': 'MP_per_game'}) if not per_game_df.empty else pd.DataFrame()\n",
    "    if merged_df.empty and not advanced_df.empty:\n",
    "        merged_df = advanced_df.rename(columns={'MP': 'MP_total_adv'})\n",
    "    print(\"One of per_game_df or advanced_df is empty. Merge might be incomplete.\")\n",
    "\n",
    "if not shooting_df.empty and not merged_df.empty:\n",
    "    # Merge with shooting stats\n",
    "    # shooting_df also has 'MP' (total minutes), 'G', 'GS', 'Age', 'Team', 'Pos'\n",
    "    # We will use 'MP_total_shoot' for shooting_df's MP column.\n",
    "    merged_df = pd.merge(merged_df, \n",
    "                           shooting_df.rename(columns={'MP': 'MP_total_shoot'}), \n",
    "                           on=['Player', 'Pos', 'Age', 'Team', 'G', 'GS'], \n",
    "                           how='outer', \n",
    "                           suffixes=('', '_shoot'))\n",
    "    print(\"Shape after merging with shooting: \", merged_df.shape)\n",
    "elif not shooting_df.empty and merged_df.empty: # if per_game and advanced were empty\n",
    "    merged_df = shooting_df.rename(columns={'MP': 'MP_total_shoot'})\n",
    "    print(\"Only shooting_df was available for merging.\")\n",
    "\n",
    "if not merged_df.empty:\n",
    "    # Clean up duplicated columns after merge (e.g., if suffixes weren't perfectly handled or some columns were not in keys)\n",
    "    # Example: If 'Awards_adv' exists and 'Awards' is preferred\n",
    "    if 'Awards_adv' in merged_df.columns and 'Awards' in merged_df.columns:\n",
    "        merged_df['Awards'] = merged_df['Awards'].fillna(merged_df['Awards_adv'])\n",
    "        merged_df.drop(columns=['Awards_adv'], inplace=True, errors='ignore')\n",
    "    if 'Awards_shoot' in merged_df.columns and 'Awards' in merged_df.columns:\n",
    "        merged_df['Awards'] = merged_df['Awards'].fillna(merged_df['Awards_shoot'])\n",
    "        merged_df.drop(columns=['Awards_shoot'], inplace=True, errors='ignore')\n",
    "    \n",
    "    # Select the primary total MP column. Let's prefer MP_total_adv, then MP_total_shoot.\n",
    "    if 'MP_total_adv' in merged_df.columns and 'MP_total_shoot' in merged_df.columns:\n",
    "        merged_df['MP_total'] = merged_df['MP_total_adv'].fillna(merged_df['MP_total_shoot'])\n",
    "        merged_df.drop(columns=['MP_total_adv', 'MP_total_shoot'], inplace=True, errors='ignore')\n",
    "    elif 'MP_total_adv' in merged_df.columns:\n",
    "        merged_df.rename(columns={'MP_total_adv': 'MP_total'}, inplace=True)\n",
    "    elif 'MP_total_shoot' in merged_df.columns:\n",
    "        merged_df.rename(columns={'MP_total_shoot': 'MP_total'}, inplace=True)\n",
    "        \n",
    "    # Drop redundant Rk columns if they exist from merging\n",
    "    rk_cols_to_drop = [col for col in merged_df.columns if 'Rk_' in col]\n",
    "    merged_df.drop(columns=rk_cols_to_drop, inplace=True, errors='ignore')\n",
    "\n",
    "    print(\"\\nMerged DataFrame - Head:\")\n",
    "    display(merged_df.head())\n",
    "    print(\"\\nMerged DataFrame - Info:\")\n",
    "    merged_df.info()\n",
    "    print(\"\\nMerged DataFrame - Columns:\")\n",
    "    print(merged_df.columns.tolist())\n",
    "else:\n",
    "    print(\"Merged DataFrame is empty. Cannot proceed with EDA.\")"
   ]
  },
  {
   "cell_type": "markdown",
   "metadata": {},
   "source": [
    "## 5. Exploratory Data Analysis (EDA) & Visualization\n",
    "\n",
    "Now we'll explore the merged data and visualize some key statistics."
   ]
  },
  {
   "cell_type": "markdown",
   "metadata": {},
   "source": [
    "### 5.1 Per-Game Stats Leaders\n",
    "\n",
    "We'll look at top players in points, assists, and rebounds per game."
   ]
  },
  {
   "cell_type": "code",
   "execution_count": null,
   "metadata": {},
   "outputs": [],
   "source": [
    "if not merged_df.empty and 'PTS' in merged_df.columns:\n",
    "    top_10_pts = merged_df.sort_values(by='PTS', ascending=False).head(10)\n",
    "    plt.figure(figsize=(12, 7))\n",
    "    sns.barplot(x='PTS', y='Player', data=top_10_pts, palette='viridis', hue='Player', dodge=False, legend=False)\n",
    "    plt.title('Top 10 Players by Points Per Game (PTS)')\n",
    "    plt.xlabel('Points Per Game')\n",
    "    plt.ylabel('Player')\n",
    "    plt.tight_layout()\n",
    "    plt.show()\n",
    "else:\n",
    "    print(\"'PTS' column not found or DataFrame is empty.\")"
   ]
  },
  {
   "cell_type": "code",
   "execution_count": null,
   "metadata": {},
   "outputs": [],
   "source": [
    "if not merged_df.empty and 'AST' in merged_df.columns:\n",
    "    top_10_ast = merged_df.sort_values(by='AST', ascending=False).head(10)\n",
    "    plt.figure(figsize=(12, 7))\n",
    "    sns.barplot(x='AST', y='Player', data=top_10_ast, palette='mako', hue='Player', dodge=False, legend=False)\n",
    "    plt.title('Top 10 Players by Assists Per Game (AST)')\n",
    "    plt.xlabel('Assists Per Game')\n",
    "    plt.ylabel('Player')\n",
    "    plt.tight_layout()\n",
    "    plt.show()\n",
    "else:\n",
    "    print(\"'AST' column not found or DataFrame is empty.\")"
   ]
  },
  {
   "cell_type": "code",
   "execution_count": null,
   "metadata": {},
   "outputs": [],
   "source": [
    "if not merged_df.empty and 'TRB' in merged_df.columns:\n",
    "    top_10_trb = merged_df.sort_values(by='TRB', ascending=False).head(10)\n",
    "    plt.figure(figsize=(12, 7))\n",
    "    sns.barplot(x='TRB', y='Player', data=top_10_trb, palette='rocket', hue='Player', dodge=False, legend=False)\n",
    "    plt.title('Top 10 Players by Rebounds Per Game (TRB)')\n",
    "    plt.xlabel('Rebounds Per Game')\n",
    "    plt.ylabel('Player')\n",
    "    plt.tight_layout()\n",
    "    plt.show()\n",
    "else:\n",
    "    print(\"'TRB' column not found or DataFrame is empty.\")"
   ]
  },
  {
   "cell_type": "markdown",
   "metadata": {},
   "source": [
    "### 5.2 Advanced Stats Leaders"
   ]
  },
  {
   "cell_type": "code",
   "execution_count": null,
   "metadata": {},
   "outputs": [],
   "source": [
    "if not merged_df.empty and 'PER' in merged_df.columns:\n",
    "    # Filter for players with substantial minutes for PER to be more meaningful\n",
    "    # Using MP_per_game from per_game_df and G for total minutes\n",
    "    if 'MP_per_game' in merged_df.columns and 'G' in merged_df.columns:\n",
    "        merged_df_filtered_per = merged_df[merged_df['MP_per_game'] * merged_df['G'] > 500] # Example: > 500 total minutes\n",
    "    else:\n",
    "        merged_df_filtered_per = merged_df # No filter if MP or G not available\n",
    "        \n",
    "    top_10_per = merged_df_filtered_per.sort_values(by='PER', ascending=False).head(10)\n",
    "    plt.figure(figsize=(12, 7))\n",
    "    sns.barplot(x='PER', y='Player', data=top_10_per, palette='cubehelix', hue='Player', dodge=False, legend=False)\n",
    "    plt.title('Top 10 Players by Player Efficiency Rating (PER) (min. 500 MP)')\n",
    "    plt.xlabel('Player Efficiency Rating (PER)')\n",
    "    plt.ylabel('Player')\n",
    "    plt.tight_layout()\n",
    "    plt.show()\n",
    "else:\n",
    "    print(\"'PER' column not found or DataFrame is empty.\")"
   ]
  },
  {
   "cell_type": "code",
   "execution_count": null,
   "metadata": {},
   "outputs": [],
   "source": [
    "if not merged_df.empty and 'TS%' in merged_df.columns:\n",
    "    # Filter for players with a reasonable number of field goal attempts\n",
    "    # FGA (per game) is in per_game_df (original name)\n",
    "    if 'FGA' in merged_df.columns and 'G' in merged_df.columns: # FGA is from per_game_df, G from common merge\n",
    "        merged_df['Total_FGA'] = merged_df['FGA'] * merged_df['G']\n",
    "        merged_df_filtered_ts = merged_df[merged_df['Total_FGA'] > 100] # Example: > 100 total FGA\n",
    "    elif 'FGA_total_adv' in merged_df.columns: # If advanced_df had total FGA\n",
    "        merged_df_filtered_ts = merged_df[merged_df['FGA_total_adv'] > 100]\n",
    "    else:\n",
    "        merged_df_filtered_ts = merged_df # No filter if FGA not available\n",
    "        \n",
    "    top_10_ts = merged_df_filtered_ts.sort_values(by='TS%', ascending=False).head(10)\n",
    "    plt.figure(figsize=(12, 7))\n",
    "    sns.barplot(x='TS%', y='Player', data=top_10_ts, palette='crest', hue='Player', dodge=False, legend=False)\n",
    "    plt.title('Top 10 Players by True Shooting % (TS%) (min. 100 FGA)')\n",
    "    plt.xlabel('True Shooting Percentage (TS%)')\n",
    "    plt.ylabel('Player')\n",
    "    plt.tight_layout()\n",
    "    plt.show()\n",
    "else:\n",
    "    print(\"'TS%' column not found or DataFrame is empty.\")"
   ]
  },
  {
   "cell_type": "markdown",
   "metadata": {},
   "source": [
    "### 5.3 Shooting Stats Analysis"
   ]
  },
  {
   "cell_type": "code",
   "execution_count": null,
   "metadata": {},
   "outputs": [],
   "source": [
    "if not merged_df.empty:\n",
    "    # League average for FG% and 3P% (using overall FG% and 3P% from per_game for consistency)\n",
    "    # Ensure these columns are numeric and handle NaNs by dropping them for mean calculation\n",
    "    if 'FG%' in merged_df.columns:\n",
    "        avg_fg_pct = merged_df['FG%'].dropna().mean()\n",
    "        print(f\"League Average FG%: {avg_fg_pct:.3f}\")\n",
    "    else:\n",
    "        print(\"'FG%' (overall) not found in merged_df for league average calculation.\")\n",
    "        \n",
    "    if '3P%' in merged_df.columns: # This is overall 3P% from per_game_df\n",
    "        avg_3p_pct = merged_df['3P%'].dropna().mean()\n",
    "        print(f\"League Average 3P%: {avg_3p_pct:.3f}\")\n",
    "    else:\n",
    "        print(\"'3P%' (overall) not found in merged_df for league average calculation.\")\n",
    "    \n",
    "    # Histogram of Average Shot Distance (Dist.)\n",
    "    if 'Dist.' in merged_df.columns:\n",
    "        plt.figure(figsize=(10, 6))\n",
    "        sns.histplot(merged_df['Dist.'].dropna(), kde=True, bins=20)\n",
    "        plt.title('Distribution of Average Shot Distance (Dist.)')\n",
    "        plt.xlabel('Average Shot Distance (ft)')\n",
    "        plt.ylabel('Frequency')\n",
    "        plt.show()\n",
    "    else:\n",
    "        print(\"'Dist.' column not found for histogram.\")\n",
    "        \n",
    "    # Top 5 players by %FGA from 3-point range (among those with significant minutes)\n",
    "    if '%FGA 3P' in merged_df.columns and 'MP_total' in merged_df.columns:\n",
    "        significant_mp_players = merged_df[merged_df['MP_total'] > 500]\n",
    "        top_5_3pa_pct = significant_mp_players.sort_values(by='%FGA 3P', ascending=False).head(5)\n",
    "        print(\"\\nTop 5 Players by Percentage of FGA from 3-Point Range (min. 500 MP):\")\n",
    "        display(top_5_3pa_pct[['Player', 'Team', '%FGA 3P', '3P%', 'MP_total']])\n",
    "    else:\n",
    "        print(\"'%FGA 3P' or 'MP_total' column not found for 3P analysis.\")\n",
    "        \n",
    "    # Top 5 players by FG% on shots from 0-3 feet (min. significant attempts)\n",
    "    # Need total FGA and %FGA 0-3 to estimate attempts from 0-3 feet\n",
    "    if 'FG% 0-3' in merged_df.columns and '%FGA 0-3' in merged_df.columns and 'FGA' in merged_df.columns and 'G' in merged_df.columns:\n",
    "        if 'Total_FGA' not in merged_df.columns: # Calculate if not already done\n",
    "             merged_df['Total_FGA'] = merged_df['FGA'] * merged_df['G']\n",
    "        merged_df['FGA_0_3_attempts'] = merged_df['%FGA 0-3'] * merged_df['Total_FGA']\n",
    "        significant_attempts_0_3 = merged_df[merged_df['FGA_0_3_attempts'] > 50] # Example: > 50 attempts from 0-3ft\n",
    "        top_5_fg_0_3 = significant_attempts_0_3.sort_values(by='FG% 0-3', ascending=False).head(5)\n",
    "        print(\"\\nTop 5 Players by FG% on Shots from 0-3 Feet (min. 50 attempts from 0-3ft):\")\n",
    "        display(top_5_fg_0_3[['Player', 'Team', 'FG% 0-3', 'FGA_0_3_attempts']])\n",
    "    else:\n",
    "        print(\"Required columns for 'FG% 0-3' analysis are missing.\")\n",
    "else:\n",
    "    print(\"Merged DataFrame is empty, skipping Shooting Stats Analysis.\")"
   ]
  },
  {
   "cell_type": "markdown",
   "metadata": {},
   "source": [
    "### 5.4 Correlations"
   ]
  },
  {
   "cell_type": "code",
   "execution_count": null,
   "metadata": {},
   "outputs": [],
   "source": [
    "if not merged_df.empty:\n",
    "    # Select key stats for correlation matrix\n",
    "    # From per-game: PTS, AST, TRB\n",
    "    # From advanced: PER, WS, USG%, TS%\n",
    "    # From shooting: %FGA 3P, Dist.\n",
    "    correlation_cols = ['PTS', 'AST', 'TRB', 'PER', 'WS', 'USG%', 'TS%', '%FGA 3P', 'Dist.']\n",
    "    \n",
    "    # Filter out columns that might not exist if a file load failed\n",
    "    existing_corr_cols = [col for col in correlation_cols if col in merged_df.columns]\n",
    "    \n",
    "    if len(existing_corr_cols) > 1:\n",
    "        correlation_df = merged_df[existing_corr_cols].copy()\n",
    "        \n",
    "        # Convert all selected columns to numeric, coercing errors. This helps if some NaNs are strings.\n",
    "        for col in existing_corr_cols:\n",
    "            correlation_df[col] = pd.to_numeric(correlation_df[col], errors='coerce')\n",
    "        \n",
    "        # Drop rows with NaNs for correlation calculation to be meaningful\n",
    "        correlation_df.dropna(inplace=True)\n",
    "        \n",
    "        if not correlation_df.empty and len(correlation_df.columns) > 1:\n",
    "            corr_matrix = correlation_df.corr()\n",
    "            \n",
    "            plt.figure(figsize=(12, 10))\n",
    "            sns.heatmap(corr_matrix, annot=True, cmap='coolwarm', fmt='.2f', linewidths=.5)\n",
    "            plt.title('Correlation Matrix of Key Player Statistics')\n",
    "            plt.show()\n",
    "        else:\n",
    "            print(\"Not enough data or columns for correlation matrix after cleaning.\")\n",
    "    else:\n",
    "        print(\"Not enough columns available for correlation analysis.\")\n",
    "else:\n",
    "    print(\"Merged DataFrame is empty, skipping Correlation Analysis.\")"
   ]
  },
  {
   "cell_type": "markdown",
   "metadata": {},
   "source": [
    "## 6. Conclusion\n",
    "\n",
    "This notebook provided an initial exploratory data analysis of the 2024-2025 NBA player statistics. We loaded, inspected, cleaned, and merged data from three different sources. We then visualized leaders in various statistical categories and examined correlations between key metrics.\n",
    "\n",
    "Further analysis could involve more advanced statistical modeling, player clustering, and in-depth investigation of specific player performances or trends."
   ]
  }
 ],
 "metadata": {
  "kernelspec": {
   "display_name": "Python 3 (ipykernel)",
   "language": "python",
   "name": "python3"
  },
  "language_info": {
   "codemirror_mode": {
    "name": "ipython",
    "version": 3
   },
   "file_extension": ".py",
   "mimetype": "text/x-python",
   "name": "python",
   "nbconvert_exporter": "python",
   "pygments_lexer": "ipython3",
   "version": "3.10.12"
  }
 },
 "nbformat": 4,
 "nbformat_minor": 5
}
